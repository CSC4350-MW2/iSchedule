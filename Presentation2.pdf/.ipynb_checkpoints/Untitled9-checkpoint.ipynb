{
 "cells": [
  {
   "cell_type": "code",
   "execution_count": 35,
   "metadata": {},
   "outputs": [],
   "source": [
    "import pandas as pd\n",
    "import os\n",
    "import random\n",
    "from shutil import copyfile"
   ]
  },
  {
   "cell_type": "code",
   "execution_count": 36,
   "metadata": {},
   "outputs": [],
   "source": [
    "random.seed(30)\n",
    "data_dir = '/group/liuwzh/disk2/All_rjfh'\n",
    "dst = '/p300/TumorType/'\n",
    "splits = ['train','val','test']\n",
    "classes = ['neuro','duct']\n"
   ]
  },
  {
   "cell_type": "code",
   "execution_count": null,
   "metadata": {},
   "outputs": [],
   "source": [
    "if not os.path.exists(dst):\n",
    "    for s in splits:\n",
    "        for c in classes:\n",
    "            os.makedirs(os.path.join(dst, s, c))"
   ]
  },
  {
   "cell_type": "code",
   "execution_count": 37,
   "metadata": {},
   "outputs": [],
   "source": [
    "RenJINeuro = pd.read_csv(\"/Users/weizhenliu/Downloads/RenJiNeuro.csv\")"
   ]
  },
  {
   "cell_type": "code",
   "execution_count": 38,
   "metadata": {},
   "outputs": [],
   "source": [
    "To_split = []\n",
    "for i in RenJINeuro[\"SVS\"]:\n",
    "    if not pd.isnull(i):\n",
    "        To_split.append(str(int(i)))\n",
    "random.shuffle(To_split)\n",
    "\n",
    "        \n"
   ]
  },
  {
   "cell_type": "code",
   "execution_count": 40,
   "metadata": {},
   "outputs": [],
   "source": [
    "Three_split = {}\n",
    "Three_split['train'] = To_split[0:10]\n",
    "Three_split['val'] = To_split[10:13]\n",
    "Three_split['test'] = To_split[13:16]\n"
   ]
  },
  {
   "cell_type": "code",
   "execution_count": 42,
   "metadata": {},
   "outputs": [
    {
     "name": "stdout",
     "output_type": "stream",
     "text": [
      "10\n",
      "3\n",
      "3\n"
     ]
    }
   ],
   "source": [
    "for d in data_dir:\n",
    "    if d[0:4] == \"2019\":\n",
    "        for f in os.listdir(os.path.join(data_dir,d)):\n",
    "            if f.split(\".\")[1] == 'svs':\n",
    "                for s in splits:\n",
    "                    if f.split(\".\")[0][-6:-1] in Three_split[s]:\n",
    "                        copyfile(os.path.join(data_dir,d,f),os.path.join(dst,s,'neuro','Renji'+\"-\"+f)\n",
    "                            \n",
    "        "
   ]
  },
  {
   "cell_type": "code",
   "execution_count": null,
   "metadata": {},
   "outputs": [],
   "source": []
  },
  {
   "cell_type": "code",
   "execution_count": null,
   "metadata": {},
   "outputs": [],
   "source": []
  }
 ],
 "metadata": {
  "kernelspec": {
   "display_name": "Python 3",
   "language": "python",
   "name": "python3"
  },
  "language_info": {
   "codemirror_mode": {
    "name": "ipython",
    "version": 3
   },
   "file_extension": ".py",
   "mimetype": "text/x-python",
   "name": "python",
   "nbconvert_exporter": "python",
   "pygments_lexer": "ipython3",
   "version": "3.7.4"
  }
 },
 "nbformat": 4,
 "nbformat_minor": 2
}
