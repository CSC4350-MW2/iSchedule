{
 "cells": [
  {
   "cell_type": "code",
   "execution_count": 66,
   "metadata": {},
   "outputs": [],
   "source": [
    "import random\n",
    "import pandas as pd\n",
    "import matplotlib.pyplot as plt\n",
    "import random \n",
    "\n",
    "%matplotlib inline\n",
    "MetaDf = pd.read_csv(\"/Users/weizhenliu/Downloads/FirstHos.csv\")"
   ]
  },
  {
   "cell_type": "code",
   "execution_count": 67,
   "metadata": {},
   "outputs": [
    {
     "data": {
      "text/plain": [
       "{25435: 2.0,\n",
       " 25436: 2.0,\n",
       " 25437: 2.0,\n",
       " 25438: 2.0,\n",
       " 25439: 2.0,\n",
       " 25440: 2.0,\n",
       " 25441: 2.0,\n",
       " 25444: 2.0,\n",
       " 25445: 2.0,\n",
       " 25446: 2.0,\n",
       " 25447: 2.0,\n",
       " 25448: 2.0,\n",
       " 25449: 3.0,\n",
       " 25450: 3.0,\n",
       " 25451: 3.0,\n",
       " 25452: 3.0,\n",
       " 25453: 2.0,\n",
       " 25454: 2.0,\n",
       " 25455: 2.0,\n",
       " 25456: 2.0,\n",
       " 25457: 2.0,\n",
       " 25458: 2.0,\n",
       " 25459: 2.0,\n",
       " 25460: 2.0,\n",
       " 25461: 2.0,\n",
       " 25462: 2.0,\n",
       " 25463: 2.0,\n",
       " 25464: 2.0,\n",
       " 25465: 2.0,\n",
       " 25466: 2.0,\n",
       " 25467: 2.0,\n",
       " 25468: 2.0,\n",
       " 25469: 2.0,\n",
       " 25470: 2.0,\n",
       " 25471: 3.0,\n",
       " 25472: 3.0,\n",
       " 25475: 2.0,\n",
       " 25476: 2.0,\n",
       " 25477: 2.0,\n",
       " 25478: 2.0,\n",
       " 25479: 2.0,\n",
       " 25480: 2.0,\n",
       " 25481: 1.0,\n",
       " 25482: 1.0,\n",
       " 25483: 1.0,\n",
       " 25484: 1.0,\n",
       " 25485: 2.0,\n",
       " 25486: 2.0,\n",
       " 25487: 2.0,\n",
       " 25490: 2.0,\n",
       " 25491: 2.0,\n",
       " 25492: 2.0,\n",
       " 25493: 2.0,\n",
       " 25494: 2.0,\n",
       " 25495: 2.0,\n",
       " 25496: 3.0,\n",
       " 25497: 3.0,\n",
       " 25498: 3.0,\n",
       " 25503: 2.0,\n",
       " 25504: 2.0,\n",
       " 25505: 2.0,\n",
       " 25509: 2.0,\n",
       " 25510: 2.0,\n",
       " 25515: 2.0,\n",
       " 25516: 2.0,\n",
       " 25517: 2.0,\n",
       " 25518: 2.0,\n",
       " 25521: 3.0,\n",
       " 25522: 3.0,\n",
       " 25523: 3.0,\n",
       " 25524: 3.0,\n",
       " 25525: 2.0,\n",
       " 25526: 2.0,\n",
       " 25527: 2.0,\n",
       " 25528: 2.0,\n",
       " 25529: 1.0,\n",
       " 25530: 1.0,\n",
       " 25531: 2.0,\n",
       " 25532: 2.0,\n",
       " 25533: 2.0,\n",
       " 25534: 2.0,\n",
       " 25535: 2.0,\n",
       " 25536: 2.0,\n",
       " 25537: 2.0,\n",
       " 25538: 2.0,\n",
       " 25539: 2.0,\n",
       " 25540: 2.0,\n",
       " 25543: 2.0,\n",
       " 25544: 2.0,\n",
       " 25545: 2.0,\n",
       " 25546: 2.0,\n",
       " 25547: 1.0,\n",
       " 25548: 1.0,\n",
       " 25549: 1.0,\n",
       " 25550: 1.0,\n",
       " 25551: 3.0,\n",
       " 25552: 3.0,\n",
       " 25553: 2.0,\n",
       " 25554: 2.0,\n",
       " 25555: 2.0,\n",
       " 25556: 2.0,\n",
       " 25557: 3.0,\n",
       " 25558: 3.0,\n",
       " 25559: 3.0,\n",
       " 25560: 3.0,\n",
       " 25561: 3.0,\n",
       " 25562: 3.0,\n",
       " 25563: 3.0,\n",
       " 25566: 2.0,\n",
       " 25567: 2.0,\n",
       " 25568: 2.0,\n",
       " 25569: 2.0,\n",
       " 25570: 2.0,\n",
       " 25571: 2.0,\n",
       " 25572: 2.0,\n",
       " 25573: 2.0,\n",
       " 25574: 2.0,\n",
       " 25575: 2.0,\n",
       " 25576: nan,\n",
       " 25577: nan,\n",
       " 25578: nan,\n",
       " 25579: nan,\n",
       " 25580: nan,\n",
       " 25581: 1.0,\n",
       " 25582: 1.0,\n",
       " 25583: 1.0,\n",
       " 25584: 2.0,\n",
       " 25585: 2.0,\n",
       " 25586: 2.0,\n",
       " 25587: 2.0,\n",
       " 25588: 2.0,\n",
       " 25589: 2.0,\n",
       " 25590: 2.0,\n",
       " 25606: 1.0,\n",
       " 25607: 1.0,\n",
       " 25608: 1.0,\n",
       " 25609: 1.0,\n",
       " 25610: 1.0,\n",
       " 25611: 1.0,\n",
       " 25612: 1.0,\n",
       " 25613: 2.0,\n",
       " 25614: 2.0,\n",
       " 25615: 2.0,\n",
       " 25619: 1.0,\n",
       " 25620: 1.0,\n",
       " 25621: 1.0,\n",
       " 25622: 1.0,\n",
       " 25638: 2.0,\n",
       " 25639: 2.0,\n",
       " 25640: 2.0,\n",
       " 25641: 2.0,\n",
       " 25654: 2.0,\n",
       " 25656: 2.0,\n",
       " 25657: 2.0,\n",
       " 25665: 2.0,\n",
       " 25666: 2.0,\n",
       " 25667: 2.0,\n",
       " 25668: 2.0,\n",
       " 25682: 2.0,\n",
       " 25683: 2.0,\n",
       " 25684: 2.0,\n",
       " 25686: 2.0,\n",
       " 25687: 2.0,\n",
       " 25689: 2.0,\n",
       " 25692: 2.0,\n",
       " 25693: 2.0,\n",
       " 25694: 1.0,\n",
       " 25695: 1.0,\n",
       " 25696: 1.0,\n",
       " 25697: 3.0,\n",
       " 25698: 3.0,\n",
       " 25713: 1.0,\n",
       " 25714: 1.0,\n",
       " 25715: 1.0,\n",
       " 25716: 1.0,\n",
       " 25717: 2.0,\n",
       " 25718: 2.0,\n",
       " 25719: 2.0,\n",
       " 25720: 2.0,\n",
       " 25721: 3.0,\n",
       " 25722: 3.0,\n",
       " 25723: 3.0,\n",
       " 25724: 3.0,\n",
       " 25725: 2.0,\n",
       " 25726: 2.0,\n",
       " 25727: 2.0,\n",
       " 25728: 2.0,\n",
       " 25731: 2.0,\n",
       " 25732: 2.0,\n",
       " 25733: 2.0,\n",
       " 25734: 2.0,\n",
       " 25735: 2.0,\n",
       " 25736: 2.0,\n",
       " 25737: 2.0,\n",
       " 25738: 2.0,\n",
       " 25739: 2.0,\n",
       " 25740: 2.0,\n",
       " 25741: 3.0,\n",
       " 25742: 3.0,\n",
       " 25743: 3.0,\n",
       " 25744: 2.0,\n",
       " 25746: 2.0,\n",
       " 25750: 2.0,\n",
       " 25754: 2.0,\n",
       " 25755: 2.0,\n",
       " 25756: 2.0,\n",
       " 25758: 2.0,\n",
       " 25762: 2.0,\n",
       " 25763: 2.0,\n",
       " 25765: 2.0,\n",
       " 25766: 2.0,\n",
       " 25767: 2.0}"
      ]
     },
     "execution_count": 67,
     "metadata": {},
     "output_type": "execute_result"
    }
   ],
   "source": [
    "StatisticsCheck = {}\n",
    "\n",
    "\n",
    "for i,j in zip(MetaDf[\"SVS\"],MetaDf[\"病理组织学分级\"]):\n",
    "    StatisticsCheck[i] = j\n",
    "        \n",
    "    \n",
    "\n",
    "# del StatisticsCheck['陈天霞']\n",
    "StatisticsCheck"
   ]
  },
  {
   "cell_type": "code",
   "execution_count": 68,
   "metadata": {},
   "outputs": [],
   "source": [
    "Todelete = []\n",
    "for i, j in StatisticsCheck.items():\n",
    "    if j not in [1.0,2.0,3.0]:\n",
    "        Todelete.append(i)\n",
    "        \n",
    "        "
   ]
  },
  {
   "cell_type": "code",
   "execution_count": 69,
   "metadata": {},
   "outputs": [],
   "source": [
    "for i in Todelete:\n",
    "    del StatisticsCheck[i]"
   ]
  },
  {
   "cell_type": "code",
   "execution_count": 29,
   "metadata": {},
   "outputs": [
    {
     "data": {
      "text/plain": [
       "207"
      ]
     },
     "execution_count": 29,
     "metadata": {},
     "output_type": "execute_result"
    }
   ],
   "source": []
  },
  {
   "cell_type": "code",
   "execution_count": 70,
   "metadata": {},
   "outputs": [],
   "source": [
    "Grade1 = []\n",
    "Grade2 = []\n",
    "Grade3 = []\n",
    "\n",
    "for i,j in StatisticsCheck.items():\n",
    "    if j == 1.0:\n",
    "        Grade1.append(i)\n",
    "    elif j == 2.0:\n",
    "        Grade2.append(i)\n",
    "    elif j == 3.0:\n",
    "        Grade3.append(i)\n",
    "    \n",
    "random.shuffle(Grade1) \n",
    "random.shuffle(Grade2) \n",
    "random.shuffle(Grade3) "
   ]
  },
  {
   "cell_type": "code",
   "execution_count": null,
   "metadata": {},
   "outputs": [],
   "source": []
  },
  {
   "cell_type": "code",
   "execution_count": 73,
   "metadata": {},
   "outputs": [],
   "source": [
    "Grade1Split = {\"train\":[],\"val\":[],\"test\":[]}\n",
    "Grade2Split = {\"train\":[],\"val\":[],\"test\":[]}\n",
    "Grade3Split = {\"train\":[],\"val\":[],\"test\":[]}"
   ]
  },
  {
   "cell_type": "code",
   "execution_count": 74,
   "metadata": {},
   "outputs": [],
   "source": [
    "def get_data(data,start,end):\n",
    "    data_list = data[start:end]\n",
    "    return data_list\n",
    "def get_datasetsplit(data,train_pct,val_pct):\n",
    "    Cutpoint = [int(len(data)*train_pct),int(len(data)*train_pct)+int(len(data)*val_pct),len(data)]\n",
    "    return Cutpoint\n",
    "    "
   ]
  },
  {
   "cell_type": "code",
   "execution_count": 45,
   "metadata": {},
   "outputs": [
    {
     "data": {
      "text/plain": [
       "21"
      ]
     },
     "execution_count": 45,
     "metadata": {},
     "output_type": "execute_result"
    }
   ],
   "source": [
    "int(len(Grade3)*0.7) 0:21 21:21+4, 21+4:len()"
   ]
  },
  {
   "cell_type": "code",
   "execution_count": 75,
   "metadata": {},
   "outputs": [
    {
     "data": {
      "text/plain": [
       "[21, 25, 31]"
      ]
     },
     "execution_count": 75,
     "metadata": {},
     "output_type": "execute_result"
    }
   ],
   "source": [
    "\n",
    "Cutpoint = [int(len(Grade3)*0.7),int(len(Grade3)*0.7)+int(len(Grade3)*0.15),len(Grade3)]\n",
    "Cutpoint"
   ]
  },
  {
   "cell_type": "code",
   "execution_count": 76,
   "metadata": {},
   "outputs": [
    {
     "name": "stdout",
     "output_type": "stream",
     "text": [
      "0 21\n",
      "21 25\n",
      "25 31\n"
     ]
    }
   ],
   "source": [
    "for t,s in zip([Grade3,Grade2,Grade1],[Grade3Split,Grade2Split,Grade1Split]:\n",
    "    for i,j in zip(['train','val','test'],get_datasetsplit[t,0.7,0.15]):\n",
    "        if i == \"train\":\n",
    "            start = 0\n",
    "        else:\n",
    "            start = end\n",
    "        end = j\n",
    "        print(start,end)\n",
    "        Grade3Split[i] = get_data(t,start,end)\n"
   ]
  },
  {
   "cell_type": "code",
   "execution_count": 77,
   "metadata": {},
   "outputs": [
    {
     "name": "stdout",
     "output_type": "stream",
     "text": [
      "[25557, 25471, 25722, 25450, 25551, 25559, 25558, 25522, 25563, 25498, 25697, 25741, 25721, 25562, 25724, 25723, 25451, 25472, 25742, 25452, 25497] [25523, 25496, 25698, 25561] [25521, 25449, 25552, 25560, 25743, 25524]\n"
     ]
    }
   ],
   "source": [
    "print(Grade3Split['train'],Grade3Split['val'],Grade3Split['test'])"
   ]
  },
  {
   "cell_type": "code",
   "execution_count": 79,
   "metadata": {},
   "outputs": [],
   "source": [
    "Grade3Split['train'].sort()\n",
    "Grade3Split['val'].sort()\n",
    "Grade3Split['test'].sort()"
   ]
  },
  {
   "cell_type": "code",
   "execution_count": 82,
   "metadata": {},
   "outputs": [],
   "source": [
    "for i in ['train','val','test']:\n",
    "    if len(Grade3Split[i]) != len(set(Grade3Split[i])):\n",
    "         print(i)  \n",
    "    "
   ]
  },
  {
   "cell_type": "code",
   "execution_count": 35,
   "metadata": {},
   "outputs": [
    {
     "data": {
      "text/plain": [
       "21"
      ]
     },
     "execution_count": 35,
     "metadata": {},
     "output_type": "execute_result"
    }
   ],
   "source": [
    "int(len(Grade2)*0.15)"
   ]
  },
  {
   "cell_type": "code",
   "execution_count": null,
   "metadata": {},
   "outputs": [],
   "source": []
  },
  {
   "cell_type": "code",
   "execution_count": null,
   "metadata": {},
   "outputs": [],
   "source": []
  }
 ],
 "metadata": {
  "kernelspec": {
   "display_name": "Python 3",
   "language": "python",
   "name": "python3"
  },
  "language_info": {
   "codemirror_mode": {
    "name": "ipython",
    "version": 3
   },
   "file_extension": ".py",
   "mimetype": "text/x-python",
   "name": "python",
   "nbconvert_exporter": "python",
   "pygments_lexer": "ipython3",
   "version": "3.7.4"
  }
 },
 "nbformat": 4,
 "nbformat_minor": 2
}
